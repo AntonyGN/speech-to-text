{
 "cells": [
  {
   "cell_type": "code",
   "execution_count": 1,
   "id": "034ab734",
   "metadata": {},
   "outputs": [
    {
     "name": "stdout",
     "output_type": "stream",
     "text": [
      "Requirement already satisfied: SpeechRecognition in /opt/anaconda3/lib/python3.9/site-packages (3.10.0)\n",
      "Requirement already satisfied: requests>=2.26.0 in /opt/anaconda3/lib/python3.9/site-packages (from SpeechRecognition) (2.28.1)\n",
      "Requirement already satisfied: certifi>=2017.4.17 in /opt/anaconda3/lib/python3.9/site-packages (from requests>=2.26.0->SpeechRecognition) (2022.9.24)\n",
      "Requirement already satisfied: idna<4,>=2.5 in /opt/anaconda3/lib/python3.9/site-packages (from requests>=2.26.0->SpeechRecognition) (3.3)\n",
      "Requirement already satisfied: charset-normalizer<3,>=2 in /opt/anaconda3/lib/python3.9/site-packages (from requests>=2.26.0->SpeechRecognition) (2.0.4)\n",
      "Requirement already satisfied: urllib3<1.27,>=1.21.1 in /opt/anaconda3/lib/python3.9/site-packages (from requests>=2.26.0->SpeechRecognition) (1.26.11)\n",
      "Note: you may need to restart the kernel to use updated packages.\n"
     ]
    }
   ],
   "source": [
    "pip install SpeechRecognition  "
   ]
  },
  {
   "cell_type": "code",
   "execution_count": 8,
   "id": "a13e4425",
   "metadata": {},
   "outputs": [
    {
     "name": "stdout",
     "output_type": "stream",
     "text": [
      "Speak Anything :\n",
      "You said : speech-to-text recognition\n"
     ]
    }
   ],
   "source": [
    "import speech_recognition as sr  \n",
    "r = sr.Recognizer()  \n",
    "with sr.Microphone() as source:  \n",
    "    print(\"Speak Anything :\")  \n",
    "    audio = r.listen(source)  \n",
    "    try:  \n",
    "        text = r.recognize_google(audio)  \n",
    "        print(\"You said : {}\".format(text))  \n",
    "         \n",
    "          \n",
    "    except:  \n",
    "        print(\"Sorry could not recognize what you said\")  "
   ]
  },
  {
   "cell_type": "code",
   "execution_count": null,
   "id": "8d0f6c6c",
   "metadata": {},
   "outputs": [],
   "source": []
  }
 ],
 "metadata": {
  "kernelspec": {
   "display_name": "Python 3 (ipykernel)",
   "language": "python",
   "name": "python3"
  },
  "language_info": {
   "codemirror_mode": {
    "name": "ipython",
    "version": 3
   },
   "file_extension": ".py",
   "mimetype": "text/x-python",
   "name": "python",
   "nbconvert_exporter": "python",
   "pygments_lexer": "ipython3",
   "version": "3.9.13"
  }
 },
 "nbformat": 4,
 "nbformat_minor": 5
}
